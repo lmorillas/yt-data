{
  "cells": [
    {
      "cell_type": "markdown",
      "metadata": {
        "id": "EOifhPbn1T4x"
      },
      "source": [
        "# Demo de extracción, anláisis y visualización de datos de vídeos de yt\n",
        "\n",
        "## Requisitos:\n",
        "\n",
        "* `API_KEY` de youtube\n",
        "* `KEY` de ngrok para ver visualización"
      ]
    },
    {
      "cell_type": "markdown",
      "metadata": {
        "id": "-pWv2kQZ1T44"
      },
      "source": [
        "## Configuración"
      ]
    },
    {
      "cell_type": "code",
      "execution_count": 1,
      "metadata": {
        "id": "e0JehD5L1T47"
      },
      "outputs": [],
      "source": [
        "# API KEY de youtube para poder hacer las peticiones\n",
        "# https://developers.google.com/youtube/v3/getting-started\n",
        "API_KEY = 'XXXXXXXXX'\n",
        "\n",
        "# Usuario del canal de youtube a analizar\n",
        "USUARIO = 'xxxxxx'  "
      ]
    },
    {
      "cell_type": "markdown",
      "metadata": {
        "id": "TPziFczi1T5B"
      },
      "source": [
        "## Instalación librerías"
      ]
    },
    {
      "cell_type": "code",
      "execution_count": null,
      "metadata": {
        "id": "WAINM7jc1T5E"
      },
      "outputs": [],
      "source": [
        "# No necesario en colab\n",
        "! pip install google-api-python-client"
      ]
    },
    {
      "cell_type": "code",
      "execution_count": 2,
      "metadata": {
        "id": "OTxUM2e-1T5G"
      },
      "outputs": [],
      "source": [
        "from apiclient.discovery import build\n",
        "from apiclient.errors import HttpError\n",
        "import json\n",
        "import os"
      ]
    },
    {
      "cell_type": "markdown",
      "metadata": {
        "id": "X-UoK7L31T5I"
      },
      "source": [
        "## Descarga de datos"
      ]
    },
    {
      "cell_type": "code",
      "execution_count": 4,
      "metadata": {
        "id": "y0iP9rL31T5J"
      },
      "outputs": [],
      "source": [
        "# conexión youtube\n",
        "YOUTUBE_API_SERVICE_NAME = \"youtube\"\n",
        "YOUTUBE_API_VERSION = \"v3\"\n",
        "\n",
        "yt = build(YOUTUBE_API_SERVICE_NAME,\n",
        "                YOUTUBE_API_VERSION,\n",
        "                developerKey=API_KEY)\n",
        "\n"
      ]
    },
    {
      "cell_type": "code",
      "execution_count": 5,
      "metadata": {
        "cellView": "form",
        "id": "8ujoNbPC1T5L"
      },
      "outputs": [],
      "source": [
        "#@title Funciones auxiliares de extracción de datos\n",
        "def get_channel_id_from_username(yt, username):\n",
        "    ''' \n",
        "    Devuelve channelId a partir de un username'''\n",
        "\n",
        "    part=\"id, snippet\"\n",
        "    res = yt.search().list(\n",
        "        q=username,\n",
        "        part='snippet',\n",
        "        type=\"channel\"\n",
        "    ).execute()\n",
        "    return res['items'][0]['snippet']['channelId']\n",
        "\n",
        "def get_playlists(youtube, channelId):\n",
        "    ''' \n",
        "    Devuelve las playlists de un canal a partir de su channelId.\n",
        "    Si el canal tiene más de 50 playlists, se hace una petición por cada página'''\n",
        "\n",
        "    part=\"snippet,status,contentDetails\"\n",
        "    res = youtube.playlists().list(\n",
        "        part=part, \n",
        "        channelId=channelId, \n",
        "        maxResults=\"50\", \n",
        "        ).execute()\n",
        "    nextPageToken = res.get('nextPageToken')\n",
        "    \n",
        "    while (nextPageToken):\n",
        "        nextPage = youtube.playlists().list(\n",
        "        part=part, \n",
        "        channelId=channelId, \n",
        "        maxResults=\"50\", \n",
        "        pageToken=nextPageToken\n",
        "        ).execute()\n",
        "        res['items'] = res['items'] + nextPage['items']\n",
        "\n",
        "        nextPageToken = nextPage.get('nextPageToken')\n",
        "        \n",
        "    return res\n",
        "\n",
        "def fetch_youtube_videos_playlist(youtube, playlistId):\n",
        "    \"\"\"\n",
        "    Fetches a playlist of videos from youtube\n",
        "    We splice the results together in no particular order\n",
        "\n",
        "    Parameters:\n",
        "        parm1 - (string) playlistId\n",
        "    Returns:\n",
        "        playListItem Dict\n",
        "    \"\"\"\n",
        "    part=\"snippet,status,contentDetails\"\n",
        "\n",
        "    res = youtube.playlistItems().list(\n",
        "    part=part,\n",
        "    playlistId=playlistId,\n",
        "    maxResults=\"50\"\n",
        "    ).execute()\n",
        "\n",
        "    nextPageToken = res.get('nextPageToken')\n",
        "    while ('nextPageToken' in res):\n",
        "        nextPage = youtube.playlistItems().list(\n",
        "        part=part,\n",
        "        playlistId=playlistId,\n",
        "        maxResults=\"50\",\n",
        "        pageToken=nextPageToken\n",
        "        ).execute()\n",
        "        res['items'] = res['items'] + nextPage['items']\n",
        "\n",
        "        if 'nextPageToken' not in nextPage:\n",
        "            res.pop('nextPageToken', None)\n",
        "        else:\n",
        "            nextPageToken = nextPage['nextPageToken']\n",
        "\n",
        "    return res\n",
        "\n",
        "def todos_los_videos_playlist(yt, playlists):\n",
        "    '''\n",
        "    Recorre las playlist de un canal y devuelve todos los videos de todas las playlists\n",
        "    '''\n",
        "    videos = []\n",
        "    for p in playlists['items']:\n",
        "        res = fetch_youtube_videos_playlist(yt, p.get('id'))\n",
        "        videos = videos + res['items']\n",
        "    return videos"
      ]
    },
    {
      "cell_type": "code",
      "execution_count": 6,
      "metadata": {
        "id": "pCJUTxpn1T5V"
      },
      "outputs": [],
      "source": [
        "# Obtenemos el channelId del usuario\n",
        "channelId = get_channel_id_from_username(yt, USUARIO)\n",
        "\n",
        "# Obtener playlists de un canal\n",
        "playlists = get_playlists(yt, channelId)\n",
        "\n",
        "# Obtener los vídeos de las playlists\n",
        "videos  = todos_los_videos_playlist(yt, playlists)\n",
        "\n",
        "# Guardamos datos json\n",
        "json.dump(playlists, open(f'playlists_{USUARIO}_yt.json', 'w'))\n",
        "json.dump(videos, open(f'videos_{USUARIO}_yt.json', 'w'))"
      ]
    },
    {
      "cell_type": "markdown",
      "source": [
        "## Análisis de texto y descripción de los vídeos (extracción de frases y temas clave)"
      ],
      "metadata": {
        "id": "Bjv8zZGC2R1X"
      }
    },
    {
      "cell_type": "code",
      "source": [
        "# Por hacer"
      ],
      "metadata": {
        "id": "tGuOMn7i3Gr7"
      },
      "execution_count": 7,
      "outputs": []
    },
    {
      "cell_type": "markdown",
      "source": [
        "## Descarga, transcripción y ánálisis del contenido de los vídeos (extracción de frases y temas clave y posición en el vídeo)"
      ],
      "metadata": {
        "id": "tMw-D8CP3pGe"
      }
    },
    {
      "cell_type": "code",
      "source": [
        "# Por hacer"
      ],
      "metadata": {
        "id": "j2iJRpZJ3pGj"
      },
      "execution_count": null,
      "outputs": []
    },
    {
      "cell_type": "markdown",
      "source": [
        "## Primera visualización de datos: [Exhibit](https://www.simile-widgets.org/exhibit)"
      ],
      "metadata": {
        "id": "d1s2wZdb6rjB"
      }
    },
    {
      "cell_type": "markdown",
      "source": [
        "### Preparación de json para exhibit"
      ],
      "metadata": {
        "id": "j6ZNcwsz7IXp"
      }
    },
    {
      "cell_type": "code",
      "source": [
        "#@title Funciones auxiliares para transformar json al modelo de exhibit y generar el html\n",
        "\n",
        "def crea_index(ruta, schema, data, template):\n",
        "    '''\n",
        "    Genera index.html para exhibit con json embebido en html\n",
        "    '''\n",
        "    data = json.dumps(data)\n",
        "    #data = json.JSONEncoderForHTML().encode(data)\n",
        "    schema = json.dumps(schema)\n",
        "    \n",
        "    open(ruta, 'w').write(template.format(data=data, schema=schema,\n",
        "            title=f'Análisis de los videos de {USUARIO}', description = 'Data visualization' ))\n",
        "    \n",
        "\n",
        "def crea_videos_exhibit(videos, salida=None):\n",
        "    items = []\n",
        "    itemsd = {}\n",
        "\n",
        "    for v in videos:\n",
        "        try:\n",
        "            if v.get('status') and v['status']['privacyStatus'] != 'public' or \\\n",
        "                v['snippet']['title'] == 'Deleted video':\n",
        "                continue\n",
        "            d = v.get('snippet')\n",
        "            k = {}\n",
        "            k['url'] = d['resourceId']['videoId']\n",
        "            if k['url'] in itemsd:\n",
        "                itemsd[k['url']]['playlistId'].append(d.get('playlistId'))\n",
        "            else:\n",
        "                k['label'] = d.get('title')\n",
        "                try:\n",
        "                    k['imagen'] = d['thumbnails']['medium']['url']\n",
        "                except:\n",
        "                    try:\n",
        "                        k['imagen'] = d['thumbnails']['default']['url']\n",
        "                    except:\n",
        "                        print(k, 'no imagen')\n",
        "                        pass\n",
        "                k['playlistId'] = [d.get('playlistId')]\n",
        "                k['position'] = d.get('position')\n",
        "                k['url'] = d['resourceId']['videoId']\n",
        "                k['type'] = 'video'\n",
        "                k['id'] = v.get('id')\n",
        "                details = v.get('contentDetails')\n",
        "                if details:\n",
        "                    k['publishedAt'] = details.get('videoPublishedAt')[:10]\n",
        "                else:\n",
        "                    k['publishedAt'] = d.get('publishedAt')[:10]\n",
        "                k['description'] = d.get('description')\n",
        "                itemsd[k['url']] = k\n",
        "        except  Exception as e:\n",
        "            print ('Exception --> ', e, v)\n",
        "            if v.get('id') and v['id'].get('kind') != 'youtube#video':    \n",
        "                continue\n",
        "            d = v.get('snippet')\n",
        "            k = {}\n",
        "            k['url'] = v['id']['videoId']\n",
        "            k['label'] = d.get('title')\n",
        "            k['type'] = 'video'\n",
        "            k['id'] = v['id']['videoId']\n",
        "            k['publishedAt'] = d.get('publishedAt')[:10]\n",
        "            k['description'] = d.get('description')\n",
        "            try:\n",
        "                k['imagen'] = d['thumbnails']['medium']['url']\n",
        "            except:\n",
        "                try:\n",
        "                    k['imagen'] = d['thumbnails']['default']['url']\n",
        "                except:\n",
        "                    print(k, 'no imagen')\n",
        "                    pass\n",
        "            itemsd[k['url']] = k\n",
        "    if salida:\n",
        "        json.dump({'items': list(itemsd.values())}, open(salida, 'w'))\n",
        "    else:\n",
        "        return list(itemsd.values())\n",
        "\n",
        "def crea_playlist_exhibit(playlists,salida=None, remove = None, separador=None):\n",
        "    \n",
        "    items = []\n",
        "    for p in playlists.get('items'):\n",
        "        if p['status']['privacyStatus'] == 'public':\n",
        "            k = {}\n",
        "            k['id'] = p.get('id')\n",
        "            k['label'] = p['snippet']['title']\n",
        "            if remove:\n",
        "                k['label'] = k['label'].replace('remove', '').strip()\n",
        "            if separador:\n",
        "                k['label'] = k['label'].split(separador)[0].strip()\n",
        "            k['type'] = 'playlist'\n",
        "            items.append(k)\n",
        "    if salida:\n",
        "        json.dump({'items': items}, open(salida, 'w'))\n",
        "    else:\n",
        "        return items\n",
        "\n",
        "template_index = '''<!DOCTYPE html>\n",
        "<html lang=\"es\">\n",
        "\n",
        "<head>\n",
        "\n",
        "    <meta charset=\"UTF-8\">\n",
        "    <meta name=\"viewport\" content=\"width=device-width, initial-scale=1, maximum-scale=1.0\" />\n",
        "    <title>{title}</title>\n",
        "    <meta name=\"Description\" content=\"{description}\">\n",
        "\n",
        "    <link href=\"#schema\" type=\"application/json\" rel=\"exhibit-data\" />\n",
        "    <link href=\"#data\" type=\"application/json\" rel=\"exhibit-data\" />\n",
        "      \n",
        "    <!-- libs simile-exhibit -->\n",
        "\n",
        "    <script src=\"//api.simile-widgets.org/exhibit/current/lib/jquery.min.js\" type=\"text/javascript\">\n",
        "    </script>\n",
        "    <!-- <link rel=\"exhibit-extension\" href=\"/js/exhibit/extensions/time/time-extension.js\" />\n",
        "    -->\n",
        "    <script src=\"//api.simile-widgets.org/exhibit/current/exhibit-api.js\" type=\"text/javascript\"></script>\n",
        "    \n",
        "    <!-- Bootstrap -->\n",
        "    <link rel=\"stylesheet\" href=\"//cdn.jsdelivr.net/bootstrap/3.3.0/css/bootstrap.min.css\">\n",
        "    <link rel=\"stylesheet\" href=\"//cdn.jsdelivr.net/bootstrap/3.3.0/css/bootstrap-theme.min.css\">\n",
        "    <script src=\"//cdn.jsdelivr.net/bootstrap/3.3.0/js/bootstrap.min.js\"></script>\n",
        "\n",
        "    <script type=\"text/javascript\">  \n",
        "        $(document).bind(\"dataload.exhibit\", function() {{\n",
        "            $(\"input\").addClass(\"form-control\");\n",
        "        }});\n",
        "\n",
        "        $(document).bind(\"scriptsLoaded.exhibit\", function () {{\n",
        "            Exhibit.FunctionUtilities.registerSimpleMappingFunction(\"yearOf\",\n",
        "                function (d) {{\n",
        "                    return d.split('-')[0];\n",
        "                }},\n",
        "                \"number\");\n",
        "        }});\n",
        "    </script>\n",
        "\n",
        "    <script type=\"text/javascript\">\n",
        "\n",
        "        function addYear(json) {{\n",
        "            var items = json.items;\n",
        "            for (var i = 0; item = items[i]; i++) {{\n",
        "                items[i].year = Exhibit.DateTime.parseIso8601DateTime(item.publishedAt).getFullYear();\n",
        "            }}\n",
        "            return json;\n",
        "        }}\n",
        "    </script>\n",
        "\n",
        "\n",
        "    <style>\n",
        "        #main-content {{\n",
        "            background: white;\n",
        "        }}\n",
        "\n",
        "        #title-panel {{\n",
        "            padding: 0.25in 0.5in;\n",
        "        }}\n",
        "\n",
        "        #top-panels {{\n",
        "            padding: 0.5em 0.5in;\n",
        "            border-top: 1px solid #BCB79E;\n",
        "            border-bottom: 1px solid #BCB79E;\n",
        "            background: #FBF4D3;\n",
        "        }}\n",
        "\n",
        "        .exhibit-tileView-body {{\n",
        "            list-style: none;\n",
        "        }}\n",
        "\n",
        "        .exhibit-collectionView-group-count {{\n",
        "            display: none;\n",
        "        }}\n",
        "\n",
        "        table.nobelist {{\n",
        "            border: 1px solid #ddd;\n",
        "            padding: 0.5em;\n",
        "        }}\n",
        "\n",
        "        div.name {{\n",
        "            font-weight: bold;\n",
        "            font-size: 120%;\n",
        "        }}\n",
        "\n",
        "        .relationship {{\n",
        "            color: #888;\n",
        "        }}\n",
        "\n",
        "        ddiv.video-thumbnail {{\n",
        "            float: left;\n",
        "            width: 12vw;\n",
        "            height: 13em;\n",
        "            border: 1px solid #BCB79E;\n",
        "            background: #F0FFF0;\n",
        "            padding: 1em;\n",
        "            margin: 0.5em;\n",
        "            text-align: center;\n",
        "        }}\n",
        "\n",
        "        div.video-timeline-lens {{\n",
        "            padding: 1em;\n",
        "            text-align: center;\n",
        "        }}\n",
        "\n",
        "        .card-content p {{\n",
        "            font-size: 12px;\n",
        "        }}\n",
        "\n",
        "        .exhibit-thumbnailView-body{{\n",
        "            display: flex;\n",
        "            flex-wrap: wrap;\n",
        "            align-items: top;\n",
        "            justify-content: center;\n",
        "        }}\n",
        "        .video-thumbnail {{\n",
        "            width: 15vw;\n",
        "            height: auto;\n",
        "            border: 1px solid #BCB79E;\n",
        "            background: #F0FFF0;\n",
        "            padding: 1em;\n",
        "            margin: 0.5em;\n",
        "            text-align: center;\n",
        "        }}\n",
        "        \n",
        "        @media (max-width: 768px) {{\n",
        "            h1, .h1 {{\n",
        "                font-size: 24px\n",
        "            }}\n",
        "            .video-thumbnail {{\n",
        "                width: 90vw;\n",
        "                height: auto;\n",
        "                border: 1px solid #BCB79E;\n",
        "                background: #F0FFF0;\n",
        "                padding: 1em;\n",
        "                margin: 0.5em;\n",
        "                text-align: center;\n",
        "            }}\n",
        "            .card-content {{\n",
        "                font-size: 8px;\n",
        "            }}\n",
        "            div.exhibit-facet-body{{\n",
        "                height: 5em;\n",
        "            }}\n",
        "            div.exhibit-facet-value {{\n",
        "                font-size: 12px;\n",
        "            }}\n",
        "          }}\n",
        "\n",
        "    </style>\n",
        "\n",
        "\n",
        "\n",
        "<link rel=\"apple-touch-icon\" sizes=\"180x180\" href=\"static/apple-touch-icon.png\">\n",
        "<link rel=\"icon\" type=\"image/png\" sizes=\"32x32\" href=\"static/favicon-32x32.png\">\n",
        "<link rel=\"icon\" type=\"image/png\" sizes=\"16x16\" href=\"static/favicon-16x16.png\">\n",
        "<link rel=\"manifest\" href=\"site.webmanifest\">\n",
        "<link rel=\"mask-icon\" href=\"static/safari-pinned-tab.svg\" color=\"#5bbad5\">\n",
        "<meta name=\"msapplication-TileColor\" content=\"#da532c\">\n",
        "<meta name=\"theme-color\" content=\"#ffffff\">\n",
        "\n",
        "\n",
        "\n",
        "</head>\n",
        "\n",
        "<body>\n",
        "<header>\n",
        "    <h1 class=\"text-center\">{title}</h1>\n",
        "    <hr>\n",
        "</header>\n",
        "    \n",
        "        <div data-ex-role=\"exhibit-collection\" data-ex-item-types=\"video\"></div>\n",
        "        <div class=\"container\">\n",
        "        <button class=\"visible-xs\"  data-toggle=\"collapse\" data-target=\"#controles\"> <span class=\"glyphicon glyphicon-sort\"></span></button>\n",
        "\n",
        "        <div class=\"row collapse in\" id=\"controles\">\n",
        "            <div class=\"col-md-4\" data-ex-role=\"exhibit-facet\" data-ex-facet-class=\"TextSearch\" data-ex-facet-label=\"Buscar\" \n",
        "            data-ex-expressions=\".label, .playlistId.label\"></div>\n",
        "            <div class=\"col-md-4\" data-ex-role=\"facet\" data-ex-expression=\"yearOf(.publishedAt)\" \n",
        "            data-ex-collapsible=\"true\" data-ex-facet-label=\"Año de publicación\"\n",
        "            data-ex-sort-direction=\"reverse\"></div>\n",
        "            <div class=\"col-md-4\" data-ex-role=\"facet\" data-ex-expression=\".playlistId\" data-ex-facet-label=\"Playlists\"\n",
        "            data-ex-collapsible=\"true\" data-ex-missing-label=\"Fuera de playlist\" ></div>\n",
        "        </div>\n",
        "        \n",
        "\n",
        "        <div data-ex-role=\"viewPanel\" style=\"padding: 1em 0.5in;\">\n",
        "\n",
        "            <div data-ex-role=\"view\" data-ex-view-class=\"Thumbnail\" data-ex-showall=\"false\" \n",
        "            data-ex-orders=\".publishedAt, .label\" data-ex-grouped=\"false\"\n",
        "                data-ex-paginate=\"true\" data-ex-page-size=\"20\" \n",
        "                data-ex-directions=\"descending\"\n",
        "                data-ex-show-controls=\"false\" data-ex-possible-orders=\".label \">\n",
        "\n",
        "                <div data-ex-role=\"exhibit-lens\" style=\"display: none;\" class=\"video-thumbnail\">\n",
        "\n",
        "                    <div>\n",
        "                        <a target=\"_blank\" data-ex-href-content=\"concat('https://www.youtube.com/watch?&v=', .url)\">\n",
        "                            <img data-ex-src-content=\".imagen\" alt=\"Imagen\" class=\"img-responsive\">\n",
        "                        </a>\n",
        "\n",
        "                    </div>\n",
        "                    <div class=\"card-content\">\n",
        "                        <a target=\"_blank\" data-ex-href-content=\"concat('https://www.youtube.com/watch?&v=', .url)\">\n",
        "                        <p data-ex-content=\".label\"></p>\n",
        "                        </a>\n",
        "                    </div>\n",
        "\n",
        "\n",
        "                </div>\n",
        "            </div>\n",
        "            <!--\n",
        "            <div data-ex-role=\"view\" \n",
        "                data-ex-view-class=\"Timeline\" \n",
        "                data-ex-start=\".publishedAt\" >\n",
        "                    <div data-ex-role=\"lens\" class=\"video-timeline-lens\" style=\"display: none;\">\n",
        "                            <img data-ex-src-content=\".imagen\"  alt=\"portrait\"/>\n",
        "                            <div><span data-ex-content=\".label\"></span></div>\n",
        "                            \n",
        "                    </div>\n",
        "\n",
        "            </div>\n",
        "            -->\n",
        "            \n",
        "\n",
        "        </div>\n",
        "    \n",
        "\n",
        "    </div>\n",
        "\n",
        "\n",
        "\n",
        "    <!--  Scripts-->\n",
        "    <div id=\"schema\" style=\"display:none\">\n",
        "        {schema}\n",
        "    </div>\n",
        "    <div id=\"data\" style=\"display:none\">\n",
        "            {data}\n",
        "    </div>\n",
        "\n",
        "</body>\n",
        "\n",
        "</html>'''\n",
        "\n",
        "schema = '''{\n",
        "    \"types\": {\n",
        "        \"video\": {\n",
        "            \"pluralLabel\": \"Vídeos\"\n",
        "        },\n",
        "        \"playlist\": {\n",
        "            \"pluralLabel\": \"Playlists\"\n",
        "        }\n",
        "    },\n",
        "    \"properties\": {\n",
        "        \"imagen\": {\n",
        "            \"valueType\": \"url\"\n",
        "        },\n",
        "        \"playlistId\": {\n",
        "            \"valueType\":              \"item\"\n",
        "        },\n",
        "        \n",
        "        \"publishedAt\": {\n",
        "            \"valueType\":              \"date\",\n",
        "            \"label\":                  \"Fecha de publicación\"\n",
        "        }\n",
        "        \n",
        "    }\n",
        "}'''\n",
        "\n"
      ],
      "metadata": {
        "cellView": "form",
        "id": "m_ZMb2Cp7CVB"
      },
      "execution_count": 23,
      "outputs": []
    },
    {
      "cell_type": "code",
      "source": [
        "videos_exhibit = crea_videos_exhibit(videos)\n",
        "playlists_exhibit = crea_playlist_exhibit(playlists)"
      ],
      "metadata": {
        "id": "OSbNxULE8a9_"
      },
      "execution_count": 20,
      "outputs": []
    },
    {
      "cell_type": "code",
      "source": [
        "crea_index('index.html', schema = schema, data = {\"items\": videos_exhibit + playlists_exhibit}, \n",
        "           template= template_index)"
      ],
      "metadata": {
        "id": "Vzb2ofRT9glg"
      },
      "execution_count": 25,
      "outputs": []
    },
    {
      "cell_type": "markdown",
      "source": [
        "### Visualización con ngrok"
      ],
      "metadata": {
        "id": "U5-K4Y_3DMT0"
      }
    },
    {
      "cell_type": "code",
      "source": [
        "# configuración de ngrok para servir archivo\n",
        "! pip install pyngrok"
      ],
      "metadata": {
        "id": "OcX9JFWf_iFT"
      },
      "execution_count": null,
      "outputs": []
    },
    {
      "cell_type": "code",
      "source": [
        "!ngrok authtoken <TOKEN_NGROK>"
      ],
      "metadata": {
        "colab": {
          "base_uri": "https://localhost:8080/"
        },
        "id": "ekrTy-d5AKZq",
        "outputId": "df9a1c0d-7098-47e1-f069-8ca0c914ddd1"
      },
      "execution_count": 27,
      "outputs": [
        {
          "output_type": "stream",
          "name": "stdout",
          "text": [
            "Authtoken saved to configuration file: /root/.ngrok2/ngrok.yml\n"
          ]
        }
      ]
    },
    {
      "cell_type": "code",
      "source": [
        "# configurar output colab \n",
        "from google.colab import output\n",
        "output.serve_kernel_port_as_window(8000)"
      ],
      "metadata": {
        "colab": {
          "base_uri": "https://localhost:8080/",
          "height": 34
        },
        "id": "llQrpTdTASZ8",
        "outputId": "7f015856-47dd-43ba-9e37-759402cfaf2c"
      },
      "execution_count": 28,
      "outputs": [
        {
          "output_type": "display_data",
          "data": {
            "text/plain": [
              "<IPython.core.display.Javascript object>"
            ],
            "application/javascript": [
              "(async (port, path, text, element) => {\n",
              "    if (!google.colab.kernel.accessAllowed) {\n",
              "      return;\n",
              "    }\n",
              "    element.appendChild(document.createTextNode(''));\n",
              "    const url = await google.colab.kernel.proxyPort(port);\n",
              "    const anchor = document.createElement('a');\n",
              "    anchor.href = new URL(path, url).toString();\n",
              "    anchor.target = '_blank';\n",
              "    anchor.setAttribute('data-href', url + path);\n",
              "    anchor.textContent = text;\n",
              "    element.appendChild(anchor);\n",
              "  })(8000, \"/\", \"https://localhost:8000/\", window.element)"
            ]
          },
          "metadata": {}
        }
      ]
    },
    {
      "cell_type": "code",
      "source": [
        "from pyngrok import ngrok\n",
        "port = 8000\n",
        "\n",
        "public_url = ngrok.connect(port).public_url\n",
        "print(\"ngrok tunnel \\\"{}\\\" -> \\\"http://127.0.0.1:{}\\\"\".format(public_url, port))"
      ],
      "metadata": {
        "colab": {
          "base_uri": "https://localhost:8080/"
        },
        "id": "iuCCdIrPAoF0",
        "outputId": "9b34dc28-2ef0-4fc5-c65c-e8903da961dc"
      },
      "execution_count": 34,
      "outputs": [
        {
          "output_type": "stream",
          "name": "stdout",
          "text": [
            "ngrok tunnel \"http://7086-35-247-63-81.ngrok.io\" -> \"http://127.0.0.1:8000\"\n"
          ]
        }
      ]
    },
    {
      "cell_type": "code",
      "source": [
        "# Ejecuta la siguiente línea y visita con el navegador la url pública de ngrok\n",
        "\n",
        "!python -m http.server 8000"
      ],
      "metadata": {
        "id": "q6Wpka32A3Nh"
      },
      "execution_count": null,
      "outputs": []
    },
    {
      "cell_type": "code",
      "source": [],
      "metadata": {
        "id": "nw27qM2ZBKRv"
      },
      "execution_count": null,
      "outputs": []
    }
  ],
  "metadata": {
    "kernelspec": {
      "display_name": "Python 3.8.10 ('env': venv)",
      "language": "python",
      "name": "python3"
    },
    "language_info": {
      "codemirror_mode": {
        "name": "ipython",
        "version": 3
      },
      "file_extension": ".py",
      "mimetype": "text/x-python",
      "name": "python",
      "nbconvert_exporter": "python",
      "pygments_lexer": "ipython3",
      "version": "3.8.10"
    },
    "orig_nbformat": 4,
    "vscode": {
      "interpreter": {
        "hash": "3916915a8399bcec75975ba526d3708872e58b653ed8343a15aac2adb227713e"
      }
    },
    "colab": {
      "provenance": []
    }
  },
  "nbformat": 4,
  "nbformat_minor": 0
}